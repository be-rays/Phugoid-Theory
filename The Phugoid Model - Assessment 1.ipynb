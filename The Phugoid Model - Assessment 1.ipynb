{
 "cells": [
  {
   "cell_type": "code",
   "execution_count": 4,
   "metadata": {
    "collapsed": true
   },
   "outputs": [],
   "source": [
    "import numpy\n",
    "from matplotlib import pyplot\n",
    "%matplotlib inline\n",
    "\n",
    "import math"
   ]
  },
  {
   "cell_type": "code",
   "execution_count": 24,
   "metadata": {
    "collapsed": false
   },
   "outputs": [],
   "source": [
    "#Start with defining all initial variables\n",
    "\n",
    "h0=0. #Rocket is at altitude zero at launching\n",
    "v0=0. #Rocket has velocity zero at launching\n",
    "ms=50.\n",
    "g=9.81\n",
    "rho=1.091\n",
    "r=0.5\n",
    "a=math.pi*r**2\n",
    "ve=325.\n",
    "cd=0.15\n",
    "mpo=100.\n",
    "mp=mpo #At t=0, no propellant has been burnt"
   ]
  },
  {
   "cell_type": "code",
   "execution_count": 90,
   "metadata": {
    "collapsed": false
   },
   "outputs": [
    {
     "name": "stdout",
     "output_type": "stream",
     "text": [
      "[ 6490.19     0.       0.       0.       0.       0.       0.       0.\n",
      "     0.       0.       0.       0.       0.       0.       0.       0.\n",
      "     0.       0.       0.       0.       0.       0.       0.       0.\n",
      "     0.       0.       0.       0.       0.       0.       0.       0.\n",
      "     0.       0.       0.       0.       0.       0.       0.       0.\n",
      "     0.       0.       0.       0.       0.       0.       0.       0.\n",
      "     0.       0.  ]\n",
      "[ 0.  0.  0.  0.  0.  0.  0.  0.  0.  0.  0.  0.  0.  0.  0.  0.  0.  0.\n",
      "  0.  0.  0.  0.  0.  0.  0.  0.  0.  0.  0.  0.  0.  0.  0.  0.  0.  0.\n",
      "  0.  0.  0.  0.  0.  0.  0.  0.  0.  0.  0.  0.  0.  0.]\n"
     ]
    }
   ],
   "source": [
    "# Let's call tf the time at which we stop calculating the altitude and velocity\n",
    "\n",
    "tf=5. #All propellant has been burnt at t=5s (given by the burn rate function).\n",
    "step=0.1\n",
    "n=int(tf/step)+1 \n",
    "t=numpy.linspace(0.,5,n)\n",
    "\n",
    "dmp=20. #Burn rate between t=0s and t=5s.\n",
    "\n",
    "h=numpy.zeros(n)\n",
    "v=numpy.zeros(n)\n",
    "h[0]=h0\n",
    "v[0]=v0\n",
    "\n",
    "vt=numpy.zeros(n-1) #With vt[m] corresonding to d(v[m])/dt\n",
    "vt0=-g+dmp*ve-0.5*rho*v[0]*v[0]*a*cd \n",
    "vt[0]=vt0\n",
    "\n",
    "ht=numpy.zeros(n-1) #With ht[m] corresonding to d(h[m])/dt\n",
    "ht0=v0\n",
    "ht[0]=ht0\n",
    "\n",
    "print(vt)\n",
    "print(ht)"
   ]
  },
  {
   "cell_type": "code",
   "execution_count": 88,
   "metadata": {
    "collapsed": true
   },
   "outputs": [],
   "source": [
    "i=1\n",
    "while i<n-3 :\n",
    "    vt[0]=-g+dmp*ve-0.5*rho*v[i]*v[i]*a*cd \n",
    "    i=i+1"
   ]
  },
  {
   "cell_type": "code",
   "execution_count": null,
   "metadata": {
    "collapsed": true
   },
   "outputs": [],
   "source": []
  }
 ],
 "metadata": {
  "anaconda-cloud": {},
  "kernelspec": {
   "display_name": "Python [conda root]",
   "language": "python",
   "name": "conda-root-py"
  },
  "language_info": {
   "codemirror_mode": {
    "name": "ipython",
    "version": 3
   },
   "file_extension": ".py",
   "mimetype": "text/x-python",
   "name": "python",
   "nbconvert_exporter": "python",
   "pygments_lexer": "ipython3",
   "version": "3.5.2"
  }
 },
 "nbformat": 4,
 "nbformat_minor": 1
}
