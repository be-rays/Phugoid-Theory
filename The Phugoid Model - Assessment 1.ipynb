{
 "cells": [
  {
   "cell_type": "code",
   "execution_count": 4,
   "metadata": {
    "collapsed": true
   },
   "outputs": [],
   "source": [
    "import numpy\n",
    "from matplotlib import pyplot\n",
    "%matplotlib inline\n",
    "\n",
    "import math"
   ]
  },
  {
   "cell_type": "code",
   "execution_count": 24,
   "metadata": {
    "collapsed": false
   },
   "outputs": [],
   "source": [
    "#Start with defining all initial variables\n",
    "\n",
    "h0=0. #Rocket is at altitude zero at launching\n",
    "v0=0. #Rocket has velocity zero at launching\n",
    "ms=50.\n",
    "g=9.81\n",
    "rho=1.091\n",
    "r=0.5\n",
    "a=math.pi*r**2\n",
    "ve=325.\n",
    "cd=0.15\n",
    "mpo=100.\n",
    "mp=mpo #At t=0, no propellant has been burnt"
   ]
  },
  {
   "cell_type": "code",
   "execution_count": 109,
   "metadata": {
    "collapsed": false
   },
   "outputs": [
    {
     "name": "stdout",
     "output_type": "stream",
     "text": [
      "[ 115.19    0.      0.      0.      0.      0.      0.      0.      0.\n",
      "    0.      0.      0.      0.      0.      0.      0.      0.      0.\n",
      "    0.      0.      0.      0.      0.      0.      0.      0.      0.\n",
      "    0.      0.      0.      0.      0.      0.      0.      0.      0.\n",
      "    0.      0.      0.      0.      0.      0.      0.      0.      0.\n",
      "    0.      0.      0.      0.      0.      0.  ]\n",
      "[ 0.  0.  0.  0.  0.  0.  0.  0.  0.  0.  0.  0.  0.  0.  0.  0.  0.  0.\n",
      "  0.  0.  0.  0.  0.  0.  0.  0.  0.  0.  0.  0.  0.  0.  0.  0.  0.  0.\n",
      "  0.  0.  0.  0.  0.  0.  0.  0.  0.  0.  0.  0.  0.  0.  0.]\n"
     ]
    }
   ],
   "source": [
    "# Let's call tf the time at which we stop calculating the altitude and velocity\n",
    "\n",
    "tf=5. #All propellant has been burnt at t=5s (given by the burn rate function).\n",
    "step=0.1\n",
    "n=int(tf/step)+1 \n",
    "t=numpy.linspace(0.,5,n)\n",
    "\n",
    "dmp=20. #Burn rate between t=0s and t=5s.\n",
    "\n",
    "h=numpy.zeros(n)\n",
    "v=numpy.zeros(n)\n",
    "h[0]=h0\n",
    "v[0]=v0\n",
    "\n",
    "vt=numpy.zeros(n) #With vt[m] corresonding to d(v[m])/dt\n",
    "vt0=-g+dmp*ve/(ms+mp)-0.5*rho*v[0]*v[0]*a*cd/(ms+mp)\n",
    "vt[0]=vt0\n",
    "\n",
    "ht=numpy.zeros(n) #With ht[m] corresonding to d(h[m])/dt\n",
    "ht0=v0\n",
    "ht[0]=ht0\n",
    "\n",
    "print(vt)\n",
    "print(ht)"
   ]
  },
  {
   "cell_type": "code",
   "execution_count": 116,
   "metadata": {
    "collapsed": false
   },
   "outputs": [
    {
     "name": "stdout",
     "output_type": "stream",
     "text": [
      "[   0.           11.519        14.92413028   18.38538113   21.90318455\n",
      "   25.47793723   29.10999711   32.79967985   36.54725505   40.35294225\n",
      "   44.21690673   48.13925508   52.12003055   56.15920811   60.25668936\n",
      "   64.41229714   68.62576986   72.89675567   77.22480632   81.60937077\n",
      "   86.04978862   90.54528321   95.09495454   99.69777201  104.35256685\n",
      "  109.05802443  113.81267641  118.61489263  123.46287302  128.35463929\n",
      "  133.2880266   138.26067528  143.27002242  148.31329367  153.38749509\n",
      "  158.48940524  163.61556751  168.76228275  173.92560242  179.1013222\n",
      "  184.28497623  189.47183218  194.65688722  199.83486509  205.00021459\n",
      "  210.14710977  215.26945238  220.36087708  225.41476082  230.42423761\n",
      "  311.87083883]\n"
     ]
    }
   ],
   "source": [
    "i=1\n",
    "while i<n-1 :\n",
    "    mp=mpo-dmp*t[i] #As propellant is burnt, we must change the mp variable \n",
    "    vt[i]=-g+dmp*ve/(mp+ms)-0.5*rho*v[i]*v[i]*a*cd/(mp+ms)\n",
    "    v[i]=v[i-1]+step*vt[i-1]\n",
    "    i=i+1\n",
    "\n",
    "print (v)\n",
    "    "
   ]
  },
  {
   "cell_type": "code",
   "execution_count": null,
   "metadata": {
    "collapsed": true
   },
   "outputs": [],
   "source": []
  }
 ],
 "metadata": {
  "anaconda-cloud": {},
  "kernelspec": {
   "display_name": "Python [conda root]",
   "language": "python",
   "name": "conda-root-py"
  },
  "language_info": {
   "codemirror_mode": {
    "name": "ipython",
    "version": 3
   },
   "file_extension": ".py",
   "mimetype": "text/x-python",
   "name": "python",
   "nbconvert_exporter": "python",
   "pygments_lexer": "ipython3",
   "version": "3.5.2"
  }
 },
 "nbformat": 4,
 "nbformat_minor": 1
}
